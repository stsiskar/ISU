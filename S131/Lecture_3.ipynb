{
 "cells": [
  {
   "cell_type": "markdown",
   "metadata": {
    "slideshow": {
     "slide_type": "notes"
    }
   },
   "source": [
    "**მონაცემთა ანალიზი პითონის გამოყენებით**\n",
    "<br>\n",
    "Date: **2020 წლის 13 ივნისი**\n",
    "<br>\n",
    "\n",
    "სათაური: **ლექცია №3: Pandas: მონაცემთა ანალიზის ბიბლიოთეკა**\n",
    "<br>\n",
    "მომხსენებელი: **შოთა ცისკარიძე**"
   ]
  },
  {
   "cell_type": "markdown",
   "metadata": {
    "slideshow": {
     "slide_type": "slide"
    }
   },
   "source": [
    "<h1 align=\"center\">Pandas: მონაცემთა დამუშავებისა და ანალიზის ბიბლიოთეკა</h1>"
   ]
  },
  {
   "cell_type": "markdown",
   "metadata": {
    "slideshow": {
     "slide_type": "slide"
    }
   },
   "source": [
    "<h3 align=\"center\">რა არის Pandas?</h3>\n",
    "\n",
    "- **Pandas** pandas არის Python პროგრამის ბიბლიოთეკა მონაცემთა დამუშავებისა და ანალიზისთვის:\n",
    "\n",
    "  https://pandas.pydata.org/\n",
    "\n",
    "\n",
    "- **Pandas** სახელი მოდის ეკონომეტრიული ტერმინიდან \"პანელის მონაცემები\" (**Panel Data**), რომელიც გამოიყენება ინფორმაციის მრავალგანზომილებიანი სტრუქტურირებული ნაკრების აღწერისთვის. \n",
    "\n",
    "\n",
    "- **Pandas** სთავაზობს მომხმარებელს მონაცემთა სპეციალურ სტრუქტურას და ოპერაციებს რიცხვით ცხრილებისა და დროის სერიების მანიპულირებისთვის."
   ]
  },
  {
   "cell_type": "code",
   "execution_count": 215,
   "metadata": {},
   "outputs": [],
   "source": [
    "import numpy as np\n",
    "import pandas as pd"
   ]
  },
  {
   "cell_type": "markdown",
   "metadata": {
    "slideshow": {
     "slide_type": "slide"
    }
   },
   "source": [
    "<h3 align=\"center\">Pandas-ს ძირითადი ობიექტები: $\\texttt{panda.Series}$ (1D)</h3>\n",
    "\n",
    "- $\\texttt{panda.Series}$ წარმოადგენს ერთგანზომილებიანი ndarray მონაცემებს თავისი ინდექსებით.\n",
    "\n",
    "\n",
    "- $\\texttt{panda.Series}$ მხარს უჭერს როგორც მთელი ასევე იარლიყზე დაფუძნებულ ინდექსაციას.\n",
    "\n",
    "\n",
    "- $\\texttt{panda.Series}$ უზრუნველყოფილია უამრავი მეთოდით განსხვავებული ოპერაციის შესასრულებლად, რომელიც მოიცავს ინდექსს. \n",
    "\n",
    "\n",
    "- $\\texttt{ndarray}$– ის სტატისტიკური მეთოდები იქნა გამოყენებული დაკარგული მონაცემების ავტომატურად გამორიცხვის მიზნით (ამჟამად წარმოდგენილია როგორც $\\texttt{NaN}$).\n",
    "\n",
    "\n",
    "- იხილეთ უფრო დაწვრილებითი ინფორმაციისთვის:\n",
    "\n",
    "  https://pandas.pydata.org/pandas-docs/stable/reference/api/pandas.Series.html\n"
   ]
  },
  {
   "cell_type": "code",
   "execution_count": 52,
   "metadata": {
    "scrolled": false
   },
   "outputs": [
    {
     "name": "stdout",
     "output_type": "stream",
     "text": [
      "a   -0.916929\n",
      "b    0.432178\n",
      "c    0.803062\n",
      "d   -1.426031\n",
      "e   -1.222174\n",
      "dtype: float64\n"
     ]
    }
   ],
   "source": [
    "# სერიის შექმნა\n",
    "s = pd.Series(np.random.randn(5), index=['a', 'b', 'c', 'd', 'e'])\n",
    "print(s)"
   ]
  },
  {
   "cell_type": "code",
   "execution_count": 13,
   "metadata": {},
   "outputs": [
    {
     "name": "stdout",
     "output_type": "stream",
     "text": [
      "-0.26797793120634444\n"
     ]
    }
   ],
   "source": [
    "# გავს ლექსიკონს (dict)\n",
    "print(s['b'])"
   ]
  },
  {
   "cell_type": "code",
   "execution_count": 11,
   "metadata": {},
   "outputs": [
    {
     "name": "stdout",
     "output_type": "stream",
     "text": [
      "a         NaN\n",
      "b   -0.535956\n",
      "c    1.609536\n",
      "d    1.723360\n",
      "e   -0.908106\n",
      "dtype: float64\n"
     ]
    }
   ],
   "source": [
    "# ავტომატური გასწორება ინდექსის მიხედვით\n",
    "print(s+s[1:])"
   ]
  },
  {
   "cell_type": "markdown",
   "metadata": {
    "slideshow": {
     "slide_type": "slide"
    }
   },
   "source": [
    "<h3 align=\"center\">Pandas-ს ძირითადი ობიექტები: $\\texttt{panda.DataFrame}$ (2D)</h3>\n",
    "\n",
    "\n",
    "- $\\texttt{panda.DataFrame}$ წარმოადგენს ორგანზომილებიანი, პოტენციურად ჰეტეროგენული, ტაბულურ მონაცემებს.\n",
    "\n",
    "<img src=\"images/pandas-data-structure.svg\" width=\"1000\" height=\"1000\" alt=\"Example\"  align=\"center\"/>\n",
    "\n",
    "\n",
    "- $\\texttt{panda.DataFrame}$ შეიძლება წარმოიდგინოთ, როგორც სერიის ობიექტების კონტეინერი.\n",
    "\n",
    "\n",
    "- $\\texttt{panda.DataFrame}$ უზრუნველყოფილია უამრავი არითმეტიკული ოპერაციებით ორივე რიგის და სვეტის იარლიყებისთვის.\n",
    "\n",
    "\n",
    "- იხილეთ უფრო დაწვრილებითი ინფორმაციისთვის:\n",
    "\n",
    "  https://pandas.pydata.org/pandas-docs/stable/reference/api/pandas.DataFrame.html\n",
    "\n",
    "\n"
   ]
  },
  {
   "cell_type": "code",
   "execution_count": 20,
   "metadata": {},
   "outputs": [
    {
     "name": "stdout",
     "output_type": "stream",
     "text": [
      "   col1  col2\n",
      "0     1     3\n",
      "1     2     4\n"
     ]
    }
   ],
   "source": [
    "# DataFrame-ის შექმნა ლექსიკონის (dict) გამოყენებით\n",
    "d = {'col1': [1, 2], 'col2': [3, 4]}\n",
    "df = pd.DataFrame(data=d)\n",
    "print(df)"
   ]
  },
  {
   "cell_type": "code",
   "execution_count": 24,
   "metadata": {},
   "outputs": [
    {
     "name": "stdout",
     "output_type": "stream",
     "text": [
      "   a  b  c\n",
      "0  1  2  3\n",
      "1  4  5  6\n",
      "2  7  8  9\n"
     ]
    }
   ],
   "source": [
    "# DataFrame-ის შექმნა ndarray-ის გამოყენებით\n",
    "df = pd.DataFrame(np.array([[1, 2, 3], [4, 5, 6], [7, 8, 9]]), columns=['a', 'b', 'c'])\n",
    "print(df)"
   ]
  },
  {
   "cell_type": "code",
   "execution_count": 29,
   "metadata": {},
   "outputs": [
    {
     "name": "stdout",
     "output_type": "stream",
     "text": [
      "                   A         B         C\n",
      "2000-01-01 -1.621302 -0.725597 -0.914028\n",
      "2000-01-02  1.744614  0.473668 -1.668680\n",
      "2000-01-03 -0.276275 -1.065838  0.923062\n",
      "2000-01-04 -1.865279 -0.214063 -1.156948\n",
      "2000-01-05 -0.115185  0.408102 -0.315391\n",
      "2000-01-06  0.038401  0.013761 -2.940465\n",
      "2000-01-07  0.312682 -0.531575  1.171951\n",
      "2000-01-08 -0.842319  1.401257 -0.079765\n"
     ]
    }
   ],
   "source": [
    "df = pd.DataFrame(np.random.randn(8, 3), index=pd.date_range('1/1/2000', periods=8), columns=['A', 'B', 'C'])\n",
    "print(df)"
   ]
  },
  {
   "cell_type": "markdown",
   "metadata": {
    "slideshow": {
     "slide_type": "slide"
    }
   },
   "source": [
    "<h3 align=\"center\">Pandas-ს ძირითადი ობიექტები: $\\texttt{panda.Panel}$ (3D)</h3>\n",
    "\n",
    "- $\\texttt{panda.Panel}$ წარმოადგენს ფართო ფორმატის პანელის (**wide panel format**) მონაცემებს და ინახება როგორც 3-განზომილებიანი მასივი.\n",
    "\n",
    "- იხილეთ უფრო დაწვრილებითი ინფორმაციისთვის:\n",
    "\n",
    "  https://pandas.pydata.org/pandas-docs/version/0.23.4/generated/pandas.Panel.html\n"
   ]
  },
  {
   "cell_type": "code",
   "execution_count": 31,
   "metadata": {},
   "outputs": [
    {
     "name": "stdout",
     "output_type": "stream",
     "text": [
      "<class 'pandas.core.panel.Panel'>\n",
      "Dimensions: 2 (items) x 3 (major_axis) x 4 (minor_axis)\n",
      "Items axis: Item1 to Item2\n",
      "Major_axis axis: 2000-01-01 00:00:00 to 2000-01-03 00:00:00\n",
      "Minor_axis axis: A to D\n"
     ]
    }
   ],
   "source": [
    "wp = pd.Panel(np.random.randn(2, 3, 4), items = ['Item1', 'Item2'], \n",
    "              major_axis=pd.date_range('1/1/2000', periods=3), \n",
    "              minor_axis=['A', 'B', 'C', 'D'])\n",
    "print(wp)"
   ]
  },
  {
   "cell_type": "markdown",
   "metadata": {
    "slideshow": {
     "slide_type": "slide"
    }
   },
   "source": [
    "<h3 align=\"center\">მონაცემთა გამოძახება</h3>\n",
    "\n",
    "- **Pandas** შეუძლია ჩატვირთოს მონაცემთა ფაილის პრაქტიკულად ყველა ტიპის ფორმატი:\n",
    "  1. Comma-separated values (CSV)\n",
    "  2. XLSX\n",
    "  3. ZIP\n",
    "  4. Plain Text (txt)\n",
    "  5. JSON\n",
    "  6. XML\n",
    "  7. HTML\n",
    "  8. Images\n",
    "  9. Hierarchical Data Format\n",
    "  10. PDF\n",
    "  11. DOCX\n",
    "  12. MP3\n",
    "  13. MP4\n",
    "  14. SQL\n",
    "\n",
    "\n",
    "- იხილეთ უფრო დაწვრილებითი ინფორმაციისთვის:\n",
    "\n",
    "  https://pandas.pydata.org/pandas-docs/stable/reference/io.html\n"
   ]
  },
  {
   "cell_type": "code",
   "execution_count": 34,
   "metadata": {},
   "outputs": [
    {
     "name": "stdout",
     "output_type": "stream",
     "text": [
      "   №      სახელი       გვარი  LAB1  LAB2  LAB3  Q1  Q2  FE  ჯამი\n",
      "0  1  გასპარიანი      კარენა    10     0     0   0   0   0    10\n",
      "1  2  გზირიშვილი  ალექსანდრე     0     0     0   0   0   0     0\n",
      "2  3   კოტიშვილი      თემური     0     0     0   0   0   0     0\n",
      "3  4      ჭელიძე      ჯემალი    10     0     0   0   0   0    10\n"
     ]
    }
   ],
   "source": [
    "# Excel-ის ფაილის ჩატვირთვა\n",
    "data = pd.read_excel('./Grades.xlsx', sheetname='S131')\n",
    "print(data)"
   ]
  },
  {
   "cell_type": "code",
   "execution_count": 50,
   "metadata": {
    "scrolled": true
   },
   "outputs": [
    {
     "name": "stdout",
     "output_type": "stream",
     "text": [
      "     outlook  temp humidity     wind label\n",
      "0      Sunny   Hot     High     Weak    No\n",
      "1      Sunny   Hot     High   Strong    No\n",
      "2   Overcast   Hot     High     Weak   Yes\n",
      "3       Rain  Mild     High     Weak   Yes\n",
      "4       Rain  Cool   Normal     Weak   Yes\n",
      "5       Rain  Cool   Normal   Strong    No\n",
      "6   Overcast  Cool   Normal   Strong   Yes\n",
      "7      Sunny  Mild     High     Weak    No\n",
      "8      Sunny  Cool   Normal     Weak   Yes\n",
      "9       Rain  Mild   Normal     Weak   Yes\n",
      "10     Sunny  Mild   Normal   Strong   Yes\n",
      "11  Overcast  Mild     High   Strong   Yes\n",
      "12  Overcast   Hot   Normal     Weak   Yes\n",
      "13      Rain  Mild     High   Strong   No \n"
     ]
    }
   ],
   "source": [
    "# csv-ის (comma-separated values) ფაილის ჩატვირთვა\n",
    "data = pd.read_csv('./golf.csv', sep=',')\n",
    "print(data)"
   ]
  },
  {
   "cell_type": "code",
   "execution_count": 51,
   "metadata": {},
   "outputs": [
    {
     "name": "stdout",
     "output_type": "stream",
     "text": [
      "    outlook  temp humidity     wind label\n",
      "0     Sunny   Hot     High     Weak    No\n",
      "1     Sunny   Hot     High   Strong    No\n",
      "2  Overcast   Hot     High     Weak   Yes\n",
      "3      Rain  Mild     High     Weak   Yes\n",
      "4      Rain  Cool   Normal     Weak   Yes\n"
     ]
    }
   ],
   "source": [
    "# პირველი 5 რიგის ჩვენება\n",
    "print(data[:5])"
   ]
  },
  {
   "cell_type": "markdown",
   "metadata": {
    "slideshow": {
     "slide_type": "slide"
    }
   },
   "source": [
    "<h3 align=\"center\">ელემენტარული ოპერაციები მონაცემებზე</h3>"
   ]
  },
  {
   "cell_type": "code",
   "execution_count": 160,
   "metadata": {},
   "outputs": [
    {
     "name": "stdout",
     "output_type": "stream",
     "text": [
      "           A          B   C  D      E    F\n",
      "2000-01  1.0 2013-01-02 NaN  3  train  foo\n",
      "2000-02  4.0 2013-01-02 NaN  3  train  foo\n",
      "2000-03  2.0 2013-01-02 NaN  3   test  foo\n",
      "2000-04  1.0 2013-01-02 NaN  3   test  foo\n"
     ]
    }
   ],
   "source": [
    "# შევქმნათ DataFrame\n",
    "data = pd.DataFrame({'A' : [1., 4., 2., 1.], \n",
    "                     'B' : pd.Timestamp('20130102'), \n",
    "                     'C' : pd.Series(1,index=list(range(4)),dtype='float32'), \n",
    "                     'D' : np.array([3] * 4,dtype='int32'), \n",
    "                     'E' : pd.Categorical([\"train\",\"train\",\"test\",\"test\"]), \n",
    "                     'F' : 'foo' }, index=pd.period_range('Jan-2000', periods=4, freq='M'))\n",
    "print(data)"
   ]
  },
  {
   "cell_type": "code",
   "execution_count": 161,
   "metadata": {},
   "outputs": [
    {
     "name": "stdout",
     "output_type": "stream",
     "text": [
      "Index(['A', 'B', 'C', 'D', 'E', 'F'], dtype='object')\n"
     ]
    }
   ],
   "source": [
    "# სვეტების გამოყოფა\n",
    "print(data.columns)"
   ]
  },
  {
   "cell_type": "code",
   "execution_count": 162,
   "metadata": {},
   "outputs": [
    {
     "name": "stdout",
     "output_type": "stream",
     "text": [
      "PeriodIndex(['2000-01', '2000-02', '2000-03', '2000-04'], dtype='period[M]', freq='M')\n"
     ]
    }
   ],
   "source": [
    "# რიგების გამოყოფა\n",
    "print(data.index)"
   ]
  },
  {
   "cell_type": "code",
   "execution_count": 163,
   "metadata": {},
   "outputs": [
    {
     "name": "stdout",
     "output_type": "stream",
     "text": [
      "           A          B   C  D      E    F\n",
      "2000-01  1.0 2013-01-02 NaN  3  train  foo\n",
      "2000-04  1.0 2013-01-02 NaN  3   test  foo\n",
      "2000-03  2.0 2013-01-02 NaN  3   test  foo\n",
      "2000-02  4.0 2013-01-02 NaN  3  train  foo\n"
     ]
    }
   ],
   "source": [
    "# სორტირება სვეტის მიხედვით\n",
    "print(data.sort_values(by='A'))"
   ]
  },
  {
   "cell_type": "code",
   "execution_count": 164,
   "metadata": {},
   "outputs": [
    {
     "name": "stdout",
     "output_type": "stream",
     "text": [
      "           A          B   C  D      E    F\n",
      "2000-04  1.0 2013-01-02 NaN  3   test  foo\n",
      "2000-01  1.0 2013-01-02 NaN  3  train  foo\n",
      "2000-03  2.0 2013-01-02 NaN  3   test  foo\n",
      "2000-02  4.0 2013-01-02 NaN  3  train  foo\n"
     ]
    }
   ],
   "source": [
    "# სორტირება სვეტების მიხედვით\n",
    "print(data.sort_values(by=['A', 'E']))"
   ]
  },
  {
   "cell_type": "code",
   "execution_count": 165,
   "metadata": {
    "scrolled": true
   },
   "outputs": [
    {
     "name": "stdout",
     "output_type": "stream",
     "text": [
      "           A          B   C  D      E    F\n",
      "2000-02  4.0 2013-01-02 NaN  3  train  foo\n",
      "2000-03  2.0 2013-01-02 NaN  3   test  foo\n",
      "2000-01  1.0 2013-01-02 NaN  3  train  foo\n",
      "2000-04  1.0 2013-01-02 NaN  3   test  foo\n"
     ]
    }
   ],
   "source": [
    "# სორტირება კლებადობით\n",
    "print(data.sort_values(by='A', ascending=False))"
   ]
  },
  {
   "cell_type": "code",
   "execution_count": 166,
   "metadata": {
    "scrolled": true
   },
   "outputs": [
    {
     "name": "stdout",
     "output_type": "stream",
     "text": [
      "[[1.0 Timestamp('2013-01-02 00:00:00') nan 3 'train' 'foo']\n",
      " [4.0 Timestamp('2013-01-02 00:00:00') nan 3 'train' 'foo']\n",
      " [2.0 Timestamp('2013-01-02 00:00:00') nan 3 'test' 'foo']\n",
      " [1.0 Timestamp('2013-01-02 00:00:00') nan 3 'test' 'foo']]\n",
      "\n",
      "\n",
      "[1.0 Timestamp('2013-01-02 00:00:00') nan 3 'train' 'foo']\n",
      "2013-01-02 00:00:00\n"
     ]
    }
   ],
   "source": [
    "# მონაცემების მატრიცაში გადაყვანა\n",
    "mat = data.values\n",
    "print(mat)\n",
    "print('\\n')\n",
    "print(mat[0])\n",
    "print(mat[0][1])"
   ]
  },
  {
   "cell_type": "markdown",
   "metadata": {
    "slideshow": {
     "slide_type": "slide"
    }
   },
   "source": [
    "<h3 align=\"center\">მონაცემთა სტრუქტურა</h3>"
   ]
  },
  {
   "cell_type": "code",
   "execution_count": 167,
   "metadata": {
    "scrolled": true
   },
   "outputs": [
    {
     "name": "stdout",
     "output_type": "stream",
     "text": [
      "A           float64\n",
      "B    datetime64[ns]\n",
      "C           float32\n",
      "D             int32\n",
      "E          category\n",
      "F            object\n",
      "dtype: object\n"
     ]
    }
   ],
   "source": [
    "# მონაცემების ტიპის გამოტანა\n",
    "print(data.dtypes)"
   ]
  },
  {
   "cell_type": "code",
   "execution_count": 168,
   "metadata": {
    "scrolled": false
   },
   "outputs": [
    {
     "name": "stdout",
     "output_type": "stream",
     "text": [
      "              A    C    D\n",
      "count  4.000000  0.0  4.0\n",
      "mean   2.000000  NaN  3.0\n",
      "std    1.414214  NaN  0.0\n",
      "min    1.000000  NaN  3.0\n",
      "25%    1.000000  NaN  3.0\n",
      "50%    1.500000  NaN  3.0\n",
      "75%    2.500000  NaN  3.0\n",
      "max    4.000000  NaN  3.0\n"
     ]
    }
   ],
   "source": [
    "# მონაცემების სტატისტიკის გამოტანა\n",
    "print(data.describe())"
   ]
  },
  {
   "cell_type": "code",
   "execution_count": 169,
   "metadata": {
    "scrolled": true
   },
   "outputs": [
    {
     "name": "stdout",
     "output_type": "stream",
     "text": [
      "A    3\n",
      "B    1\n",
      "C    0\n",
      "D    1\n",
      "E    2\n",
      "F    1\n",
      "dtype: int64\n"
     ]
    }
   ],
   "source": [
    "# უნიკალური ელემენტების რაოდენობა\n",
    "print(data.nunique())"
   ]
  },
  {
   "cell_type": "markdown",
   "metadata": {
    "slideshow": {
     "slide_type": "slide"
    }
   },
   "source": [
    "<h3 align=\"center\">ოპერაციები ინდექსებზე</h3>"
   ]
  },
  {
   "cell_type": "code",
   "execution_count": 171,
   "metadata": {
    "scrolled": true
   },
   "outputs": [
    {
     "name": "stdout",
     "output_type": "stream",
     "text": [
      "          AA          B   C  D      E    F\n",
      "2000-01  1.0 2013-01-02 NaN  3  train  foo\n",
      "2000-02  4.0 2013-01-02 NaN  3  train  foo\n",
      "2000-03  2.0 2013-01-02 NaN  3   test  foo\n",
      "2000-04  1.0 2013-01-02 NaN  3   test  foo\n"
     ]
    }
   ],
   "source": [
    "# სვეტის სახელის შეცვლა\n",
    "data2 = data.rename(columns={'A': 'AA'})\n",
    "print(data2)"
   ]
  },
  {
   "cell_type": "code",
   "execution_count": 172,
   "metadata": {},
   "outputs": [],
   "source": [
    "data = pd.DataFrame({'A' : [1., 4., 2., 1.], \n",
    "                     'B' : pd.Timestamp('20130102'), \n",
    "                     'C' : pd.Series(1,index=list(range(4)),dtype='float32'), \n",
    "                     'D' : np.array([3] * 4,dtype='int32'), \n",
    "                     'E' : pd.Categorical([\"train\",\"train\",\"test\",\"test\"]), \n",
    "                     'F' : 'foo' }, index=pd.period_range('Jan-2000', periods=4, freq='M'))"
   ]
  },
  {
   "cell_type": "code",
   "execution_count": 173,
   "metadata": {
    "scrolled": false
   },
   "outputs": [
    {
     "name": "stdout",
     "output_type": "stream",
     "text": [
      "           A          B   C      E    F\n",
      "2000-01  1.0 2013-01-02 NaN  train  foo\n",
      "2000-02  4.0 2013-01-02 NaN  train  foo\n",
      "2000-03  2.0 2013-01-02 NaN   test  foo\n",
      "2000-04  1.0 2013-01-02 NaN   test  foo\n"
     ]
    }
   ],
   "source": [
    "# რიგის ამოშლა\n",
    "data2 = data.drop('D', axis=1, inplace=True)\n",
    "print(data)"
   ]
  },
  {
   "cell_type": "code",
   "execution_count": 174,
   "metadata": {
    "scrolled": true
   },
   "outputs": [
    {
     "ename": "KeyError",
     "evalue": "\"['D'] not found in axis\"",
     "output_type": "error",
     "traceback": [
      "\u001b[1;31m---------------------------------------------------------------------------\u001b[0m",
      "\u001b[1;31mKeyError\u001b[0m                                  Traceback (most recent call last)",
      "\u001b[1;32m<ipython-input-174-eae1dd2c0652>\u001b[0m in \u001b[0;36m<module>\u001b[1;34m\u001b[0m\n\u001b[1;32m----> 1\u001b[1;33m \u001b[0mdata2\u001b[0m \u001b[1;33m=\u001b[0m \u001b[0mdata\u001b[0m\u001b[1;33m.\u001b[0m\u001b[0mdrop\u001b[0m\u001b[1;33m(\u001b[0m\u001b[1;34m'D'\u001b[0m\u001b[1;33m,\u001b[0m \u001b[0maxis\u001b[0m\u001b[1;33m=\u001b[0m\u001b[1;36m1\u001b[0m\u001b[1;33m,\u001b[0m \u001b[0minplace\u001b[0m\u001b[1;33m=\u001b[0m\u001b[1;32mTrue\u001b[0m\u001b[1;33m)\u001b[0m\u001b[1;33m\u001b[0m\u001b[1;33m\u001b[0m\u001b[0m\n\u001b[0m\u001b[0;32m      2\u001b[0m \u001b[0mprint\u001b[0m\u001b[1;33m(\u001b[0m\u001b[0mdata\u001b[0m\u001b[1;33m)\u001b[0m\u001b[1;33m\u001b[0m\u001b[1;33m\u001b[0m\u001b[0m\n",
      "\u001b[1;32mD:\\Work\\MaxinAI\\Anaconda\\lib\\site-packages\\pandas\\core\\frame.py\u001b[0m in \u001b[0;36mdrop\u001b[1;34m(self, labels, axis, index, columns, level, inplace, errors)\u001b[0m\n\u001b[0;32m   3938\u001b[0m                                            \u001b[0mindex\u001b[0m\u001b[1;33m=\u001b[0m\u001b[0mindex\u001b[0m\u001b[1;33m,\u001b[0m \u001b[0mcolumns\u001b[0m\u001b[1;33m=\u001b[0m\u001b[0mcolumns\u001b[0m\u001b[1;33m,\u001b[0m\u001b[1;33m\u001b[0m\u001b[1;33m\u001b[0m\u001b[0m\n\u001b[0;32m   3939\u001b[0m                                            \u001b[0mlevel\u001b[0m\u001b[1;33m=\u001b[0m\u001b[0mlevel\u001b[0m\u001b[1;33m,\u001b[0m \u001b[0minplace\u001b[0m\u001b[1;33m=\u001b[0m\u001b[0minplace\u001b[0m\u001b[1;33m,\u001b[0m\u001b[1;33m\u001b[0m\u001b[1;33m\u001b[0m\u001b[0m\n\u001b[1;32m-> 3940\u001b[1;33m                                            errors=errors)\n\u001b[0m\u001b[0;32m   3941\u001b[0m \u001b[1;33m\u001b[0m\u001b[0m\n\u001b[0;32m   3942\u001b[0m     @rewrite_axis_style_signature('mapper', [('copy', True),\n",
      "\u001b[1;32mD:\\Work\\MaxinAI\\Anaconda\\lib\\site-packages\\pandas\\core\\generic.py\u001b[0m in \u001b[0;36mdrop\u001b[1;34m(self, labels, axis, index, columns, level, inplace, errors)\u001b[0m\n\u001b[0;32m   3778\u001b[0m         \u001b[1;32mfor\u001b[0m \u001b[0maxis\u001b[0m\u001b[1;33m,\u001b[0m \u001b[0mlabels\u001b[0m \u001b[1;32min\u001b[0m \u001b[0maxes\u001b[0m\u001b[1;33m.\u001b[0m\u001b[0mitems\u001b[0m\u001b[1;33m(\u001b[0m\u001b[1;33m)\u001b[0m\u001b[1;33m:\u001b[0m\u001b[1;33m\u001b[0m\u001b[1;33m\u001b[0m\u001b[0m\n\u001b[0;32m   3779\u001b[0m             \u001b[1;32mif\u001b[0m \u001b[0mlabels\u001b[0m \u001b[1;32mis\u001b[0m \u001b[1;32mnot\u001b[0m \u001b[1;32mNone\u001b[0m\u001b[1;33m:\u001b[0m\u001b[1;33m\u001b[0m\u001b[1;33m\u001b[0m\u001b[0m\n\u001b[1;32m-> 3780\u001b[1;33m                 \u001b[0mobj\u001b[0m \u001b[1;33m=\u001b[0m \u001b[0mobj\u001b[0m\u001b[1;33m.\u001b[0m\u001b[0m_drop_axis\u001b[0m\u001b[1;33m(\u001b[0m\u001b[0mlabels\u001b[0m\u001b[1;33m,\u001b[0m \u001b[0maxis\u001b[0m\u001b[1;33m,\u001b[0m \u001b[0mlevel\u001b[0m\u001b[1;33m=\u001b[0m\u001b[0mlevel\u001b[0m\u001b[1;33m,\u001b[0m \u001b[0merrors\u001b[0m\u001b[1;33m=\u001b[0m\u001b[0merrors\u001b[0m\u001b[1;33m)\u001b[0m\u001b[1;33m\u001b[0m\u001b[1;33m\u001b[0m\u001b[0m\n\u001b[0m\u001b[0;32m   3781\u001b[0m \u001b[1;33m\u001b[0m\u001b[0m\n\u001b[0;32m   3782\u001b[0m         \u001b[1;32mif\u001b[0m \u001b[0minplace\u001b[0m\u001b[1;33m:\u001b[0m\u001b[1;33m\u001b[0m\u001b[1;33m\u001b[0m\u001b[0m\n",
      "\u001b[1;32mD:\\Work\\MaxinAI\\Anaconda\\lib\\site-packages\\pandas\\core\\generic.py\u001b[0m in \u001b[0;36m_drop_axis\u001b[1;34m(self, labels, axis, level, errors)\u001b[0m\n\u001b[0;32m   3810\u001b[0m                 \u001b[0mnew_axis\u001b[0m \u001b[1;33m=\u001b[0m \u001b[0maxis\u001b[0m\u001b[1;33m.\u001b[0m\u001b[0mdrop\u001b[0m\u001b[1;33m(\u001b[0m\u001b[0mlabels\u001b[0m\u001b[1;33m,\u001b[0m \u001b[0mlevel\u001b[0m\u001b[1;33m=\u001b[0m\u001b[0mlevel\u001b[0m\u001b[1;33m,\u001b[0m \u001b[0merrors\u001b[0m\u001b[1;33m=\u001b[0m\u001b[0merrors\u001b[0m\u001b[1;33m)\u001b[0m\u001b[1;33m\u001b[0m\u001b[1;33m\u001b[0m\u001b[0m\n\u001b[0;32m   3811\u001b[0m             \u001b[1;32melse\u001b[0m\u001b[1;33m:\u001b[0m\u001b[1;33m\u001b[0m\u001b[1;33m\u001b[0m\u001b[0m\n\u001b[1;32m-> 3812\u001b[1;33m                 \u001b[0mnew_axis\u001b[0m \u001b[1;33m=\u001b[0m \u001b[0maxis\u001b[0m\u001b[1;33m.\u001b[0m\u001b[0mdrop\u001b[0m\u001b[1;33m(\u001b[0m\u001b[0mlabels\u001b[0m\u001b[1;33m,\u001b[0m \u001b[0merrors\u001b[0m\u001b[1;33m=\u001b[0m\u001b[0merrors\u001b[0m\u001b[1;33m)\u001b[0m\u001b[1;33m\u001b[0m\u001b[1;33m\u001b[0m\u001b[0m\n\u001b[0m\u001b[0;32m   3813\u001b[0m             \u001b[0mresult\u001b[0m \u001b[1;33m=\u001b[0m \u001b[0mself\u001b[0m\u001b[1;33m.\u001b[0m\u001b[0mreindex\u001b[0m\u001b[1;33m(\u001b[0m\u001b[1;33m**\u001b[0m\u001b[1;33m{\u001b[0m\u001b[0maxis_name\u001b[0m\u001b[1;33m:\u001b[0m \u001b[0mnew_axis\u001b[0m\u001b[1;33m}\u001b[0m\u001b[1;33m)\u001b[0m\u001b[1;33m\u001b[0m\u001b[1;33m\u001b[0m\u001b[0m\n\u001b[0;32m   3814\u001b[0m \u001b[1;33m\u001b[0m\u001b[0m\n",
      "\u001b[1;32mD:\\Work\\MaxinAI\\Anaconda\\lib\\site-packages\\pandas\\core\\indexes\\base.py\u001b[0m in \u001b[0;36mdrop\u001b[1;34m(self, labels, errors)\u001b[0m\n\u001b[0;32m   4963\u001b[0m             \u001b[1;32mif\u001b[0m \u001b[0merrors\u001b[0m \u001b[1;33m!=\u001b[0m \u001b[1;34m'ignore'\u001b[0m\u001b[1;33m:\u001b[0m\u001b[1;33m\u001b[0m\u001b[1;33m\u001b[0m\u001b[0m\n\u001b[0;32m   4964\u001b[0m                 raise KeyError(\n\u001b[1;32m-> 4965\u001b[1;33m                     '{} not found in axis'.format(labels[mask]))\n\u001b[0m\u001b[0;32m   4966\u001b[0m             \u001b[0mindexer\u001b[0m \u001b[1;33m=\u001b[0m \u001b[0mindexer\u001b[0m\u001b[1;33m[\u001b[0m\u001b[1;33m~\u001b[0m\u001b[0mmask\u001b[0m\u001b[1;33m]\u001b[0m\u001b[1;33m\u001b[0m\u001b[1;33m\u001b[0m\u001b[0m\n\u001b[0;32m   4967\u001b[0m         \u001b[1;32mreturn\u001b[0m \u001b[0mself\u001b[0m\u001b[1;33m.\u001b[0m\u001b[0mdelete\u001b[0m\u001b[1;33m(\u001b[0m\u001b[0mindexer\u001b[0m\u001b[1;33m)\u001b[0m\u001b[1;33m\u001b[0m\u001b[1;33m\u001b[0m\u001b[0m\n",
      "\u001b[1;31mKeyError\u001b[0m: \"['D'] not found in axis\""
     ]
    }
   ],
   "source": [
    "data2 = data.drop('D', axis=1, inplace=True)\n",
    "print(data)"
   ]
  },
  {
   "cell_type": "code",
   "execution_count": 181,
   "metadata": {},
   "outputs": [
    {
     "name": "stdout",
     "output_type": "stream",
     "text": [
      "2.0\n",
      "\n",
      "\n",
      "           A          B   C      E    F\n",
      "2000-01  1.0 2013-01-02 NaN  train  foo\n",
      "\n",
      "\n",
      "           A          B   C     E    F\n",
      "2000-03  2.0 2013-01-02 NaN  test  foo\n",
      "2000-04  1.0 2013-01-02 NaN  test  foo\n"
     ]
    }
   ],
   "source": [
    "# რიგის გამოყოფა\n",
    "\n",
    "print(data[data.columns[0]][2])\n",
    "# print(data[1])    არ შეიძლება\n",
    "# print(data[1, 2]) არ შეიძლება\n",
    "print('\\n')\n",
    "print(data[:1])\n",
    "print('\\n')\n",
    "print(data[-2:])"
   ]
  },
  {
   "cell_type": "code",
   "execution_count": 183,
   "metadata": {
    "scrolled": true
   },
   "outputs": [
    {
     "name": "stdout",
     "output_type": "stream",
     "text": [
      "2000-01    False\n",
      "2000-02    False\n",
      "2000-03     True\n",
      "2000-04     True\n",
      "Freq: M, Name: E, dtype: bool\n"
     ]
    }
   ],
   "source": [
    "# შემოწმება არის თუ არა ელემენტი შესაბამის რიგში\n",
    "print(data['E'].isin(['test','valid']))"
   ]
  },
  {
   "cell_type": "code",
   "execution_count": 185,
   "metadata": {
    "scrolled": false
   },
   "outputs": [
    {
     "name": "stdout",
     "output_type": "stream",
     "text": [
      "           A          B   C      E    F\n",
      "2000-01  1.0 2013-01-02 NaN  train  foo\n",
      "2000-02  4.0 2013-01-02 NaN  train  foo\n",
      "2000-03  2.0 2013-01-02 NaN   test  foo\n",
      "2000-04  1.0 2013-01-02 NaN   test  foo\n",
      "\n",
      "\n",
      "           A          B   C      E    F\n",
      "2000-04  1.0 2013-01-02 NaN   test  foo\n",
      "2000-03  2.0 2013-01-02 NaN   test  foo\n",
      "2000-02  4.0 2013-01-02 NaN  train  foo\n",
      "2000-01  1.0 2013-01-02 NaN  train  foo\n"
     ]
    }
   ],
   "source": [
    "# ინდექსირების შეცვლა\n",
    "print(data)\n",
    "print('\\n')\n",
    "print(data.reindex(index=data.index[::-1]))"
   ]
  },
  {
   "cell_type": "code",
   "execution_count": 193,
   "metadata": {
    "scrolled": true
   },
   "outputs": [
    {
     "name": "stdout",
     "output_type": "stream",
     "text": [
      "   x   y\n",
      "a  1  10\n",
      "b  2  20\n",
      "c  3  30\n",
      "d  4  40\n",
      "\n",
      "\n",
      "      y   z\n",
      "d  40.0 NaN\n",
      "b  20.0 NaN\n",
      "x   NaN NaN\n"
     ]
    }
   ],
   "source": [
    "# პირდაპირი ინდექსირება\n",
    "df = pd.DataFrame({'x':[1,2,3,4], 'y':[10,20,30,40]}, index=['a','b','c','d'])\n",
    "print(df)\n",
    "print('\\n')\n",
    "print(df.reindex(index=['d','b','x'], columns=['y','z']))"
   ]
  },
  {
   "cell_type": "code",
   "execution_count": 195,
   "metadata": {
    "scrolled": true
   },
   "outputs": [
    {
     "name": "stdout",
     "output_type": "stream",
     "text": [
      "1    10\n",
      "2    20\n",
      "6    60\n",
      "dtype: int64\n",
      "\n",
      "\n",
      "2    20\n",
      "3    20\n",
      "4    20\n",
      "5    20\n",
      "6    60\n",
      "7    60\n",
      "dtype: int64\n"
     ]
    }
   ],
   "source": [
    "#\n",
    "s = pd.Series([10,20,60], index=[1,2,6])\n",
    "print(s)\n",
    "print('\\n')\n",
    "print(s.reindex(index=[2,3,4,5,6,7], method='ffill'))"
   ]
  },
  {
   "cell_type": "code",
   "execution_count": null,
   "metadata": {},
   "outputs": [],
   "source": []
  },
  {
   "cell_type": "code",
   "execution_count": 206,
   "metadata": {},
   "outputs": [
    {
     "name": "stdout",
     "output_type": "stream",
     "text": [
      "     x    y  z\n",
      "0  1.0  2.0  1\n",
      "1  NaN  4.0  2\n",
      "2  2.0  NaN  3\n",
      "      x   y\n",
      "0  20.0   2\n",
      "1  40.0   4\n",
      "2   NaN  20\n",
      "      x     y  z\n",
      "0   1.0   2.0  1\n",
      "1  40.0   4.0  2\n",
      "2   2.0  20.0  3\n",
      "      x   y    z\n",
      "0  20.0   2  1.0\n",
      "1  40.0   4  2.0\n",
      "2   2.0  20  3.0\n",
      "      x    y   z\n",
      "0  21.0  4.0 NaN\n",
      "1   NaN  8.0 NaN\n",
      "2   NaN  NaN NaN\n"
     ]
    }
   ],
   "source": [
    "df1 = pd.DataFrame({'x':[1,np.nan,2], 'y':[2,4,np.nan], 'z':[1,2,3]}) \n",
    "df2 = pd.DataFrame({'x':[20,40,np.nan], 'y':[2,4,20]})\n",
    "print(df1)\n",
    "print(df2)\n",
    "print(df1.combine_first(df2))\n",
    "print(df2.combine_first(df1))\n",
    "print(df2.add(df1))\n",
    "print(df2.(df1))"
   ]
  },
  {
   "cell_type": "code",
   "execution_count": 209,
   "metadata": {
    "scrolled": true
   },
   "outputs": [
    {
     "name": "stdout",
     "output_type": "stream",
     "text": [
      "   key  l\n",
      "0    1  1\n",
      "1    2  2\n",
      "2    1  3\n",
      "   key  r\n",
      "0    1  4\n",
      "1    2  5\n",
      "2    3  6\n"
     ]
    },
    {
     "data": {
      "text/html": [
       "<div>\n",
       "<style scoped>\n",
       "    .dataframe tbody tr th:only-of-type {\n",
       "        vertical-align: middle;\n",
       "    }\n",
       "\n",
       "    .dataframe tbody tr th {\n",
       "        vertical-align: top;\n",
       "    }\n",
       "\n",
       "    .dataframe thead th {\n",
       "        text-align: right;\n",
       "    }\n",
       "</style>\n",
       "<table border=\"1\" class=\"dataframe\">\n",
       "  <thead>\n",
       "    <tr style=\"text-align: right;\">\n",
       "      <th></th>\n",
       "      <th>key</th>\n",
       "      <th>l</th>\n",
       "      <th>r</th>\n",
       "    </tr>\n",
       "  </thead>\n",
       "  <tbody>\n",
       "    <tr>\n",
       "      <th>0</th>\n",
       "      <td>1</td>\n",
       "      <td>1</td>\n",
       "      <td>4</td>\n",
       "    </tr>\n",
       "    <tr>\n",
       "      <th>1</th>\n",
       "      <td>1</td>\n",
       "      <td>3</td>\n",
       "      <td>4</td>\n",
       "    </tr>\n",
       "    <tr>\n",
       "      <th>2</th>\n",
       "      <td>2</td>\n",
       "      <td>2</td>\n",
       "      <td>5</td>\n",
       "    </tr>\n",
       "  </tbody>\n",
       "</table>\n",
       "</div>"
      ],
      "text/plain": [
       "   key  l  r\n",
       "0    1  1  4\n",
       "1    1  3  4\n",
       "2    2  2  5"
      ]
     },
     "execution_count": 209,
     "metadata": {},
     "output_type": "execute_result"
    }
   ],
   "source": [
    "left = pd.DataFrame({'key': [1,2,1], 'l': [1, 2, 3]}) \n",
    "right = pd.DataFrame({'key': [1,2,3], 'r': [4, 5, 6]}) \n",
    "print(left)\n",
    "print(right)\n",
    "pd.merge(left, right, on='key')"
   ]
  },
  {
   "cell_type": "code",
   "execution_count": 218,
   "metadata": {
    "scrolled": true
   },
   "outputs": [
    {
     "name": "stdout",
     "output_type": "stream",
     "text": [
      "1    10\n",
      "2    20\n",
      "3    30\n",
      "4    40\n",
      "dtype: int64 \n",
      "\n",
      "2    20\n",
      "3    30\n",
      "5    50\n",
      "dtype: int64 \n",
      "\n"
     ]
    },
    {
     "data": {
      "text/plain": [
       "(2    20\n",
       " 3    30\n",
       " dtype: int64, 2    20\n",
       " 3    30\n",
       " dtype: int64)"
      ]
     },
     "execution_count": 218,
     "metadata": {},
     "output_type": "execute_result"
    }
   ],
   "source": [
    "s1 = pd.Series([10,20,30,40], index = [1,2,3,4]) \n",
    "s2 = pd.Series([20,30,50], index = [2,3,5])\n",
    "print(s1, '\\n')\n",
    "print(s2, '\\n')\n",
    "s1.align(s2)\n",
    "s1.align(s2, join='inner')"
   ]
  },
  {
   "cell_type": "code",
   "execution_count": 219,
   "metadata": {
    "scrolled": true
   },
   "outputs": [
    {
     "name": "stdout",
     "output_type": "stream",
     "text": [
      "   ind1  ind2  x  y\n",
      "0     1     1  1  1\n",
      "1     1     1  2  1\n",
      "2     1     2  3  1\n",
      "3     2     2  4  1\n",
      "4     2     3  5  1\n",
      "5     2     3  6  1\n",
      "6     2     2  7  2\n",
      "ind2    1    2    3\n",
      "x                  \n",
      "1     1.0  NaN  NaN\n",
      "2     1.0  NaN  NaN\n",
      "3     NaN  1.0  NaN\n",
      "4     NaN  1.0  NaN\n",
      "5     NaN  NaN  1.0\n",
      "6     NaN  NaN  1.0\n",
      "7     NaN  2.0  NaN\n"
     ]
    }
   ],
   "source": [
    "df = pd.DataFrame({'ind1':[1,1,1,2,2,2,2], 'ind2':[1,1,2,2,3,3,2], 'x':[1,2,3,4,5,6,7], 'y':[1,1,1,1,1,1,2]})\n",
    "print(df)\n",
    "print(df.pivot(index='x', columns='ind2', values='y'))"
   ]
  },
  {
   "cell_type": "code",
   "execution_count": 220,
   "metadata": {},
   "outputs": [
    {
     "ename": "AttributeError",
     "evalue": "module 'pandas' has no attribute 'expanding_mean'",
     "output_type": "error",
     "traceback": [
      "\u001b[1;31m---------------------------------------------------------------------------\u001b[0m",
      "\u001b[1;31mAttributeError\u001b[0m                            Traceback (most recent call last)",
      "\u001b[1;32m<ipython-input-220-c1a4ee3a4368>\u001b[0m in \u001b[0;36m<module>\u001b[1;34m\u001b[0m\n\u001b[0;32m      1\u001b[0m \u001b[0ms1\u001b[0m \u001b[1;33m=\u001b[0m \u001b[0mpd\u001b[0m\u001b[1;33m.\u001b[0m\u001b[0mSeries\u001b[0m\u001b[1;33m(\u001b[0m\u001b[0mnp\u001b[0m\u001b[1;33m.\u001b[0m\u001b[0mcos\u001b[0m\u001b[1;33m(\u001b[0m\u001b[0mnp\u001b[0m\u001b[1;33m.\u001b[0m\u001b[0marange\u001b[0m\u001b[1;33m(\u001b[0m\u001b[1;36m100\u001b[0m\u001b[1;33m)\u001b[0m\u001b[1;33m)\u001b[0m\u001b[1;33m)\u001b[0m\u001b[1;33m\u001b[0m\u001b[1;33m\u001b[0m\u001b[0m\n\u001b[1;32m----> 2\u001b[1;33m \u001b[0ms2\u001b[0m \u001b[1;33m=\u001b[0m \u001b[0mpd\u001b[0m\u001b[1;33m.\u001b[0m\u001b[0mexpanding_mean\u001b[0m\u001b[1;33m(\u001b[0m\u001b[0ms1\u001b[0m\u001b[1;33m)\u001b[0m\u001b[1;33m\u001b[0m\u001b[1;33m\u001b[0m\u001b[0m\n\u001b[0m\u001b[0;32m      3\u001b[0m \u001b[0mf\u001b[0m \u001b[1;33m=\u001b[0m \u001b[0mpd\u001b[0m\u001b[1;33m.\u001b[0m\u001b[0mDataFrame\u001b[0m\u001b[1;33m(\u001b[0m\u001b[1;33m{\u001b[0m\u001b[1;34m's1'\u001b[0m\u001b[1;33m:\u001b[0m\u001b[0ms1\u001b[0m\u001b[1;33m,\u001b[0m \u001b[1;34m's2'\u001b[0m\u001b[1;33m:\u001b[0m\u001b[0ms2\u001b[0m\u001b[1;33m}\u001b[0m\u001b[1;33m)\u001b[0m\u001b[1;33m.\u001b[0m\u001b[0mplot\u001b[0m\u001b[1;33m(\u001b[0m\u001b[1;33m)\u001b[0m\u001b[1;33m\u001b[0m\u001b[1;33m\u001b[0m\u001b[0m\n\u001b[0;32m      4\u001b[0m \u001b[0mf\u001b[0m\u001b[1;33m.\u001b[0m\u001b[0mlegend\u001b[0m\u001b[1;33m(\u001b[0m\u001b[1;33m[\u001b[0m\u001b[1;34m'signal'\u001b[0m\u001b[1;33m,\u001b[0m \u001b[1;34m'cum_mean'\u001b[0m\u001b[1;33m]\u001b[0m\u001b[1;33m)\u001b[0m\u001b[1;33m\u001b[0m\u001b[1;33m\u001b[0m\u001b[0m\n",
      "\u001b[1;31mAttributeError\u001b[0m: module 'pandas' has no attribute 'expanding_mean'"
     ]
    }
   ],
   "source": [
    "s1 = pd.Series(np.cos(np.arange(100))) \n",
    "s2 = pd.(s1) \n",
    "f = pd.DataFrame({'s1':s1, 's2':s2}).plot() \n",
    "f.legend(['signal', 'cum_mean'])"
   ]
  },
  {
   "cell_type": "markdown",
   "metadata": {
    "slideshow": {
     "slide_type": "slide"
    }
   },
   "source": [
    "<h3 align=\"center\">ობიექტების შექმნა</h3>"
   ]
  },
  {
   "cell_type": "markdown",
   "metadata": {
    "slideshow": {
     "slide_type": "slide"
    }
   },
   "source": [
    "<h3 align=\"center\">მონაცემების დათვალიერება / შემოწმება</h3>\n",
    "\n",
    "|              Method              |                Description               |\n",
    "|:---------------------------------|:-----------------------------------------|\n",
    "| df.head(n)                       | First $n$ rows of the DataFrame            |\n",
    "| df.tail(n)                       | Last $n$ rows of the DataFrame             |\n",
    "| df.shape                         | Number of rows and columns               |\n",
    "| df.info()                        | Index, Datatype and Memory information   |\n",
    "| df.describe()                    | Summary statistics for numerical columns |\n",
    "| s.value_counts(dropna=False)     | View unique values and counts            |\n",
    "| df.apply(pd.Series.value_counts) | Unique values and counts for all columns |"
   ]
  },
  {
   "cell_type": "markdown",
   "metadata": {
    "slideshow": {
     "slide_type": "slide"
    }
   },
   "source": [
    "<h3 align=\"center\">მონაცემთა ამორჩევა</h3>"
   ]
  },
  {
   "cell_type": "markdown",
   "metadata": {
    "slideshow": {
     "slide_type": "slide"
    }
   },
   "source": [
    "<h3 align=\"center\">მონაცემთა გაწმენდა</h3>"
   ]
  },
  {
   "cell_type": "markdown",
   "metadata": {
    "slideshow": {
     "slide_type": "slide"
    }
   },
   "source": [
    "<h3 align=\"center\">მონაცემთა ფილტრიცია, სორტირება და დაჯგუფება</h3>"
   ]
  },
  {
   "cell_type": "markdown",
   "metadata": {
    "slideshow": {
     "slide_type": "slide"
    }
   },
   "source": [
    "<h3 align=\"center\">მონაცემთა სტატისტიკის გამოყვანა</h3>"
   ]
  },
  {
   "cell_type": "markdown",
   "metadata": {
    "slideshow": {
     "slide_type": "slide"
    }
   },
   "source": [
    "<h3 align=\"center\">მონაცემთა იმპორტირება და ექსპორტირება</h3>"
   ]
  },
  {
   "cell_type": "markdown",
   "metadata": {
    "slideshow": {
     "slide_type": "slide"
    }
   },
   "source": [
    "<h3 align=\"center\">მონაცემთა იმპორტირება და ექსპორტირება</h3>"
   ]
  },
  {
   "cell_type": "markdown",
   "metadata": {
    "slideshow": {
     "slide_type": "slide"
    }
   },
   "source": [
    "<h1 align=\"center\">ლექციის დასასრული</h1>"
   ]
  }
 ],
 "metadata": {
  "celltoolbar": "Slideshow",
  "kernelspec": {
   "display_name": "Python 3",
   "language": "python",
   "name": "python3"
  },
  "language_info": {
   "codemirror_mode": {
    "name": "ipython",
    "version": 3
   },
   "file_extension": ".py",
   "mimetype": "text/x-python",
   "name": "python",
   "nbconvert_exporter": "python",
   "pygments_lexer": "ipython3",
   "version": "3.7.3"
  }
 },
 "nbformat": 4,
 "nbformat_minor": 2
}
