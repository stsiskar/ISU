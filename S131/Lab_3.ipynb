{
 "cells": [
  {
   "cell_type": "markdown",
   "metadata": {
    "slideshow": {
     "slide_type": "notes"
    }
   },
   "source": [
    "**მონაცემთა ანალიზი პითონის გამოყენებით**\n",
    "<br>\n",
    "თარიღი: **2020 წლის 15 მაისი**\n",
    "<br>\n",
    "\n",
    "სათაური: **ლაბორატორიული №3: Pandas-ის ბიბლიოთეკა**\n",
    "<br>\n",
    "ჩაბარების ბოლო დღე: **2020 წლის 20 ივნისი**\n",
    "<br>\n",
    "თითო დავალება ფასდება **1 ქულით**."
   ]
  },
  {
   "cell_type": "markdown",
   "metadata": {
    "slideshow": {
     "slide_type": "slide"
    }
   },
   "source": [
    "<h3 align=\"center\">ამინდის პროგნოზი</h3>\n",
    "\n",
    "- მოცემული გვაქვს თბილისის ამინდის პროგნოზს, სადაც ზოგიერთ მნიშნველობა დაკარგულია:\n",
    "\n",
    "|     Date     | Temperature [C] |         Outlook        | Precipitation [%] | Humidity [%] | Wind [km/h] |\n",
    "|:------------:|:---------------:|:----------------------:|:-----------------:|:------------:|:-----------:|\n",
    "| 14-June-2020 |        33       | Isolated thunderstorms |         60        |      43      |      10     |\n",
    "| 15-June-2020 |        33       |      Partly cloudy     |         10        |      Nan     |      14     |\n",
    "| 16-June-2020 |        34       |      Mostly sunny      |         0         |      29      |      19     |\n",
    "| 17-June-2020 |        33       |      Partly cloudy     |         10        |      36      |      Nan    |\n",
    "| 18-June-2020 |        Nan      |      Partly cloudy     |         20        |      35      |      21     |\n",
    "| 19-June-2020 |        31       |      Mostly sunny      |         20        |      Nan     |      19     |\n",
    "| 20-June-2020 |        32       |      Mostly sunny      |         10        |      29      |      19     |\n",
    "\n"
   ]
  },
  {
   "cell_type": "markdown",
   "metadata": {
    "slideshow": {
     "slide_type": "slide"
    }
   },
   "source": [
    "<h3 align=\"center\">დავალება</h3>\n",
    "\n",
    "1. ყოველი სვეტისთვის შექმენით **pd.Series** ობიექტები, სადაც **index**-ად იქნება აღებული **Date** სვეტი.\n",
    "\n",
    "\n",
    "2. გააერთიანეთ მიღებული pd.Series-ები (უნდა იყოს 5 ცალი) ერთ pd.DataFrame ცხრილში:\n",
    "\n",
    "   <img src=\"images/Lab3_Table_2.png\" width=\"600\" alt=\"Example\"  align=\"center\"/>\n",
    "\n",
    "\n",
    "3. შეავსეთ ყველა ცარიელი მნიშნველობა წინა უახლოესი მნიშნველობით:\n",
    " \n",
    "   <img src=\"images/Lab3_Table_3.png\" width=\"600\" alt=\"Example\"  align=\"center\"/>  \n",
    "\n",
    "4. რა მაქსიმალური ტემპერატურა და მინიმალური არის მოსალოდნელი ამ კვირის განმავლობაში? გამოიყენეთ შესაბამისი მეთოდები!\n",
    " \n",
    " \n",
    "5. მოცემული ცხრილისთვის მიიღეთ კორელაციის ცხრილი:\n",
    " \n",
    "   <img src=\"images/Lab3_Table_5.png\" width=\"500\" alt=\"Example\"  align=\"center\"/>\n",
    "\n",
    "   აღწერეთ რა დამოკიდებულებაა ქარსა და ტენიანობას შორის?\n",
    "   \n",
    "\n",
    "6. ააგეთ ტემპერატურის გრაფიკი დღეების მიხედვით:\n",
    " \n",
    "   <img src=\"images/Lab3_Table_6.png\" width=\"400\" alt=\"Example\"  align=\"center\"/>\n",
    "\n",
    "7. ააგეთ იგივე გრაფიკი ოღონდ კუბური ინტერპოლირებით:\n",
    " \n",
    "   <img src=\"images/Lab3_Table_7.png\" width=\"400\" alt=\"Example\"  align=\"center\"/>\n",
    "   \n",
    "   \n",
    "8. დაასორტირეთ ცხრილი კლებადობით ჯერ ტემპერატურის მიხედვით, და მერე ტენიანობის მიხედვით:\n",
    " \n",
    "   <img src=\"images/Lab3_Table_8.png\" width=\"600\" alt=\"Example\"  align=\"center\"/>\n",
    "   \n",
    "\n",
    "9. დაჯგუფებეთ ცხრილი გარე ამინდის (**Outlook**) მიხედვით.\n",
    "\n",
    "   <img src=\"images/Lab3_Table_9.png\" width=\"550\" alt=\"Example\"  align=\"center\"/>\n",
    "\n",
    "10. ჩაწერეთ მიღებული ცხრილი ექსელის ფორმატის ფაილში.\n",
    "\n"
   ]
  },
  {
   "cell_type": "markdown",
   "metadata": {
    "slideshow": {
     "slide_type": "slide"
    }
   },
   "source": [
    "<h1 align=\"center\">გისურვებთ წარმატებებს!</h1>"
   ]
  }
 ],
 "metadata": {
  "celltoolbar": "Slideshow",
  "kernelspec": {
   "display_name": "Python 3",
   "language": "python",
   "name": "python3"
  },
  "language_info": {
   "codemirror_mode": {
    "name": "ipython",
    "version": 3
   },
   "file_extension": ".py",
   "mimetype": "text/x-python",
   "name": "python",
   "nbconvert_exporter": "python",
   "pygments_lexer": "ipython3",
   "version": "3.7.3"
  }
 },
 "nbformat": 4,
 "nbformat_minor": 2
}
